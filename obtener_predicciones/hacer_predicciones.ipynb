{
  "cells": [
    {
      "cell_type": "code",
      "execution_count": 31,
      "metadata": {
        "id": "K_dDtT52HYfW"
      },
      "outputs": [],
      "source": [
        "import pickle\n",
        "import numpy as np"
      ]
    },
    {
      "cell_type": "code",
      "execution_count": null,
      "metadata": {
        "id": "voLC_Bc7Hcpt"
      },
      "outputs": [],
      "source": [
        "file_model = 'https://github.com/PabloSGomez50/humai-solar-panels/blob/e826a419c2bc9f064941071d350ea46799d63565/obtener_predicciones/LSTM_BatchSize_2_Epochs_10_NumLayers_2_NumUnits_8.pkl'\n",
        "file_scaler = 'https://github.com/PabloSGomez50/humai-solar-panels/blob/3c0e5d7b8f0f3f7b343779e9476325d2e71f2bd7/obtener_predicciones/scaler.pkl'\n",
        "\n",
        "model = pickle.load(open('LSTM_BatchSize_2_Epochs_10_NumLayers_2_NumUnits_8.pkl', 'rb'))\n",
        "scaler = pickle.load(open('scaler.pkl', 'rb')) "
      ]
    },
    {
      "cell_type": "code",
      "execution_count": 33,
      "metadata": {
        "id": "SF6lxjRIHfhn"
      },
      "outputs": [],
      "source": [
        "def hacer_predicciones(valores_entrada, cantidad_predicciones):\n",
        "    # Escala los valores de entrada\n",
        "    valores_entrada = np.array(valores_entrada).reshape(-1, 1)\n",
        "    valores_entrada = scaler.transform(valores_entrada)\n",
        "    # Inicializa una lista para almacenar las predicciones\n",
        "    predicciones = []\n",
        "    # Realiza las predicciones en un loop\n",
        "    for i in range(cantidad_predicciones):\n",
        "        # Redimensiona los valores de entrada para que coincidan con la entrada del modelo\n",
        "        entrada = valores_entrada.reshape(1, 5, 1)\n",
        "        # Realiza la predicción y la agrega a la lista de predicciones\n",
        "        prediccion = model.predict(entrada)\n",
        "        predicciones.append(prediccion[0][0])\n",
        "        # Actualiza los valores de entrada con la nueva predicción\n",
        "        valores_entrada = np.delete(valores_entrada, 0)\n",
        "        valores_entrada = np.append(valores_entrada, prediccion)\n",
        "    # Retorna la lista de predicciones\n",
        "    return predicciones\n"
      ]
    },
    {
      "cell_type": "code",
      "execution_count": 35,
      "metadata": {
        "colab": {
          "base_uri": "https://localhost:8080/"
        },
        "id": "0zHlNTCNHpaM",
        "outputId": "a3068fdb-9845-4cb0-b2b2-a7a158bbe36a"
      },
      "outputs": [
        {
          "name": "stdout",
          "output_type": "stream",
          "text": [
            "1/1 [==============================] - 0s 18ms/step\n",
            "1/1 [==============================] - 0s 20ms/step\n",
            "1/1 [==============================] - 0s 19ms/step\n",
            "1/1 [==============================] - 0s 18ms/step\n",
            "1/1 [==============================] - 0s 18ms/step\n",
            "1/1 [==============================] - 0s 22ms/step\n",
            "1/1 [==============================] - 0s 19ms/step\n",
            "1/1 [==============================] - 0s 18ms/step\n",
            "1/1 [==============================] - 0s 19ms/step\n",
            "1/1 [==============================] - 0s 18ms/step\n",
            "1/1 [==============================] - 0s 22ms/step\n",
            "1/1 [==============================] - 0s 24ms/step\n",
            "1/1 [==============================] - 0s 23ms/step\n",
            "1/1 [==============================] - 0s 40ms/step\n",
            "1/1 [==============================] - 0s 34ms/step\n",
            "1/1 [==============================] - 0s 25ms/step\n",
            "1/1 [==============================] - 0s 29ms/step\n",
            "1/1 [==============================] - 0s 25ms/step\n",
            "1/1 [==============================] - 0s 28ms/step\n",
            "1/1 [==============================] - 0s 41ms/step\n",
            "1/1 [==============================] - 0s 33ms/step\n",
            "1/1 [==============================] - 0s 24ms/step\n",
            "1/1 [==============================] - 0s 26ms/step\n",
            "1/1 [==============================] - 0s 25ms/step\n",
            "[0.49736565, 0.38489944, 0.2286463, 0.10326627, 0.05085312, 0.03986824, 0.04923708, 0.095773526, 0.20713481, 0.37232602, 0.4847834, 0.51352, 0.45588392, 0.32302004, 0.16989227, 0.075892955, 0.04573135, 0.04286464, 0.06463356, 0.13542743, 0.27555507, 0.42960364, 0.5034683, 0.4961735]\n"
          ]
        }
      ],
      "source": [
        "valores_entrada = np.array([0.1, 0.2, 0.3, 0.4, 0.5])\n",
        "cantidad_predicciones = 24\n",
        "predicciones = hacer_predicciones(valores_entrada, cantidad_predicciones)\n",
        "print(predicciones)\n"
      ]
    }
  ],
  "metadata": {
    "colab": {
      "provenance": []
    },
    "kernelspec": {
      "display_name": "humai-panel-solar",
      "language": "python",
      "name": "python3"
    },
    "language_info": {
      "name": "python",
      "version": "3.8.16"
    },
    "vscode": {
      "interpreter": {
        "hash": "4abf4f704632834347e375a06b65680ec520887408d7ace278f5ba20c6946a8e"
      }
    }
  },
  "nbformat": 4,
  "nbformat_minor": 0
}
