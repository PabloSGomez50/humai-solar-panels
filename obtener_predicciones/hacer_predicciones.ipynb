{
  "cells": [
    {
      "cell_type": "code",
      "execution_count": 1,
      "metadata": {
        "id": "K_dDtT52HYfW"
      },
      "outputs": [],
      "source": [
        "import pickle\n",
        "import numpy as np\n",
        "from tensorflow.keras.models import load_model"
      ]
    },
    {
      "cell_type": "code",
      "execution_count": 2,
      "metadata": {
        "id": "voLC_Bc7Hcpt"
      },
      "outputs": [
        {
          "name": "stderr",
          "output_type": "stream",
          "text": [
            "c:\\Users\\usuario\\.conda\\envs\\humai-panel-solar\\lib\\site-packages\\sklearn\\base.py:299: UserWarning: Trying to unpickle estimator MinMaxScaler from version 1.0.2 when using version 1.2.1. This might lead to breaking code or invalid results. Use at your own risk. For more info please refer to:\n",
            "https://scikit-learn.org/stable/model_persistence.html#security-maintainability-limitations\n",
            "  warnings.warn(\n"
          ]
        }
      ],
      "source": [
        "file_model = 'https://github.com/PabloSGomez50/humai-solar-panels/blob/d2ee73a989b8a9df781269ecec16f110eb8c48c8/obtener_predicciones/LSTM_BatchSize_2_Epochs_10_NumLayers_2_NumUnits_8_look_back_12.pkl'\n",
        "file_scaler = 'https://github.com/PabloSGomez50/humai-solar-panels/blob/3c0e5d7b8f0f3f7b343779e9476325d2e71f2bd7/obtener_predicciones/scaler.pkl'\n",
        "\n",
        "#model = pickle.load(open('LSTM_BatchSize_2_Epochs_10_NumLayers_2_NumUnits_8_look_back_12.pkl', 'rb'))\n",
        "#model.save(\"LSTM_BatchSize_2_Epochs_10_NumLayers_2_NumUnits_8_look_back_12.h5\")\n",
        "\n",
        "model = load_model('LSTM_BatchSize_2_Epochs_10_NumLayers_2_NumUnits_8_look_back_12.h5')\n",
        "scaler = pickle.load(open('scaler.pkl', 'rb'))"
      ]
    },
    {
      "cell_type": "code",
      "execution_count": 3,
      "metadata": {
        "id": "SF6lxjRIHfhn"
      },
      "outputs": [],
      "source": [
        "def hacer_predicciones(valores_entrada, cantidad_predicciones):\n",
        "    # Escala los valores de entrada\n",
        "    valores_entrada = np.array(valores_entrada).reshape(-1, 1)\n",
        "    valores_entrada = scaler.transform(valores_entrada)\n",
        "\n",
        "    predicciones = []\n",
        "    for i in range(cantidad_predicciones):\n",
        "        # Redimensiona los valores de entrada para que coincidan con la entrada del modelo\n",
        "        entrada = valores_entrada.reshape(1, 12, 1)\n",
        "        # Realiza la predicción y la agrega a la lista de predicciones\n",
        "        prediccion = model.predict(entrada)\n",
        "        predicciones.append(prediccion[0][0])\n",
        "        # Actualiza los valores de entrada con la nueva predicción\n",
        "        valores_entrada = np.delete(valores_entrada, 0)\n",
        "        valores_entrada = np.append(valores_entrada, prediccion)\n",
        "    return predicciones\n"
      ]
    },
    {
      "cell_type": "code",
      "execution_count": 4,
      "metadata": {
        "colab": {
          "base_uri": "https://localhost:8080/"
        },
        "id": "0zHlNTCNHpaM",
        "outputId": "070e4d1a-116d-48dc-9805-b72ad4cb472a"
      },
      "outputs": [
        {
          "name": "stdout",
          "output_type": "stream",
          "text": [
            "1/1 [==============================] - 1s 805ms/step\n",
            "1/1 [==============================] - 0s 26ms/step\n",
            "1/1 [==============================] - 0s 28ms/step\n",
            "1/1 [==============================] - 0s 28ms/step\n",
            "1/1 [==============================] - 0s 32ms/step\n",
            "1/1 [==============================] - 0s 40ms/step\n",
            "1/1 [==============================] - 0s 51ms/step\n",
            "1/1 [==============================] - 0s 44ms/step\n",
            "1/1 [==============================] - 0s 45ms/step\n",
            "1/1 [==============================] - 0s 44ms/step\n",
            "1/1 [==============================] - 0s 99ms/step\n",
            "1/1 [==============================] - 0s 41ms/step\n",
            "1/1 [==============================] - 0s 47ms/step\n",
            "1/1 [==============================] - 0s 44ms/step\n",
            "1/1 [==============================] - 0s 48ms/step\n",
            "1/1 [==============================] - 0s 40ms/step\n",
            "1/1 [==============================] - 0s 40ms/step\n",
            "1/1 [==============================] - 0s 45ms/step\n",
            "1/1 [==============================] - 0s 46ms/step\n",
            "1/1 [==============================] - 0s 47ms/step\n",
            "1/1 [==============================] - 0s 51ms/step\n",
            "1/1 [==============================] - 0s 44ms/step\n",
            "1/1 [==============================] - 0s 43ms/step\n",
            "1/1 [==============================] - 0s 40ms/step\n",
            "[0.034505244, 0.029090732, 0.027751673, 0.0271266, 0.02717794, 0.027498705, 0.028203934, 0.030565241, 0.04056638, 0.083880186, 0.15206209, 0.25656614, 0.3699007, 0.41599527, 0.38286245, 0.2963432, 0.19283903, 0.11326966, 0.069379866, 0.047823932, 0.036961176, 0.031532682, 0.02920899, 0.02879285]\n"
          ]
        }
      ],
      "source": [
        "valores_entrada = np.array([0.1, 0.2, 0.3, 0.4, 0.5, 0.6, 0.7, 0.8, 0.9, 0.10, 0.11, 0.12])\n",
        "cantidad_predicciones = 24\n",
        "predicciones = hacer_predicciones(valores_entrada, cantidad_predicciones)\n",
        "print(predicciones)\n"
      ]
    }
  ],
  "metadata": {
    "colab": {
      "provenance": []
    },
    "kernelspec": {
      "display_name": "humai-panel-solar",
      "language": "python",
      "name": "python3"
    },
    "language_info": {
      "codemirror_mode": {
        "name": "ipython",
        "version": 3
      },
      "file_extension": ".py",
      "mimetype": "text/x-python",
      "name": "python",
      "nbconvert_exporter": "python",
      "pygments_lexer": "ipython3",
      "version": "3.8.16"
    },
    "vscode": {
      "interpreter": {
        "hash": "4abf4f704632834347e375a06b65680ec520887408d7ace278f5ba20c6946a8e"
      }
    }
  },
  "nbformat": 4,
  "nbformat_minor": 0
}
