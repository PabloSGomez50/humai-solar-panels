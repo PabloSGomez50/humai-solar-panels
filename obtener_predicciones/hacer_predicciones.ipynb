{
  "nbformat": 4,
  "nbformat_minor": 0,
  "metadata": {
    "colab": {
      "provenance": []
    },
    "kernelspec": {
      "name": "python3",
      "display_name": "Python 3"
    },
    "language_info": {
      "name": "python"
    }
  },
  "cells": [
    {
      "cell_type": "code",
      "source": [
        "import pickle\n",
        "import numpy as np"
      ],
      "metadata": {
        "id": "K_dDtT52HYfW"
      },
      "execution_count": 1,
      "outputs": []
    },
    {
      "cell_type": "code",
      "source": [
        "file_model = 'https://github.com/PabloSGomez50/humai-solar-panels/blob/d2ee73a989b8a9df781269ecec16f110eb8c48c8/obtener_predicciones/LSTM_BatchSize_2_Epochs_10_NumLayers_2_NumUnits_8_look_back_12.pkl'\n",
        "file_scaler = 'https://github.com/PabloSGomez50/humai-solar-panels/blob/3c0e5d7b8f0f3f7b343779e9476325d2e71f2bd7/obtener_predicciones/scaler.pkl'\n",
        "\n",
        "model = pickle.load(open('LSTM_BatchSize_2_Epochs_10_NumLayers_2_NumUnits_8_look_back_12.pkl', 'rb'))\n",
        "scaler = pickle.load(open('scaler.pkl', 'rb'))"
      ],
      "metadata": {
        "id": "voLC_Bc7Hcpt"
      },
      "execution_count": null,
      "outputs": []
    },
    {
      "cell_type": "code",
      "source": [
        "def hacer_predicciones(valores_entrada, cantidad_predicciones):\n",
        "    # Escala los valores de entrada\n",
        "    valores_entrada = np.array(valores_entrada).reshape(-1, 1)\n",
        "    valores_entrada = scaler.transform(valores_entrada)\n",
        "\n",
        "    predicciones = []\n",
        "    for i in range(cantidad_predicciones):\n",
        "        # Redimensiona los valores de entrada para que coincidan con la entrada del modelo\n",
        "        entrada = valores_entrada.reshape(1, 12, 1)\n",
        "        # Realiza la predicción y la agrega a la lista de predicciones\n",
        "        prediccion = model.predict(entrada)\n",
        "        predicciones.append(prediccion[0][0])\n",
        "        # Actualiza los valores de entrada con la nueva predicción\n",
        "        valores_entrada = np.delete(valores_entrada, 0)\n",
        "        valores_entrada = np.append(valores_entrada, prediccion)\n",
        "    return predicciones\n"
      ],
      "metadata": {
        "id": "SF6lxjRIHfhn"
      },
      "execution_count": 7,
      "outputs": []
    },
    {
      "cell_type": "code",
      "source": [
        "valores_entrada = np.array([0.1, 0.2, 0.3, 0.4, 0.5, 0.6, 0.7, 0.8, 0.9, 0.10, 0.11, 0.12])\n",
        "cantidad_predicciones = 24\n",
        "predicciones = hacer_predicciones(valores_entrada, cantidad_predicciones)\n",
        "print(predicciones)\n"
      ],
      "metadata": {
        "colab": {
          "base_uri": "https://localhost:8080/"
        },
        "id": "0zHlNTCNHpaM",
        "outputId": "f1134577-5d63-4bd6-ba1e-d48e10578cad"
      },
      "execution_count": 9,
      "outputs": [
        {
          "output_type": "stream",
          "name": "stdout",
          "text": [
            "1/1 [==============================] - 0s 33ms/step\n",
            "1/1 [==============================] - 0s 26ms/step\n",
            "1/1 [==============================] - 0s 26ms/step\n",
            "1/1 [==============================] - 0s 26ms/step\n",
            "1/1 [==============================] - 0s 27ms/step\n",
            "1/1 [==============================] - 0s 27ms/step\n",
            "1/1 [==============================] - 0s 26ms/step\n",
            "1/1 [==============================] - 0s 29ms/step\n",
            "1/1 [==============================] - 0s 33ms/step\n",
            "1/1 [==============================] - 0s 25ms/step\n",
            "1/1 [==============================] - 0s 25ms/step\n",
            "1/1 [==============================] - 0s 31ms/step\n",
            "1/1 [==============================] - 0s 34ms/step\n",
            "1/1 [==============================] - 0s 27ms/step\n",
            "1/1 [==============================] - 0s 29ms/step\n",
            "1/1 [==============================] - 0s 27ms/step\n",
            "1/1 [==============================] - 0s 32ms/step\n",
            "1/1 [==============================] - 0s 25ms/step\n",
            "1/1 [==============================] - 0s 27ms/step\n",
            "1/1 [==============================] - 0s 29ms/step\n",
            "1/1 [==============================] - 0s 32ms/step\n",
            "1/1 [==============================] - 0s 27ms/step\n",
            "1/1 [==============================] - 0s 31ms/step\n",
            "1/1 [==============================] - 0s 25ms/step\n",
            "[0.034505244, 0.029090732, 0.027751673, 0.0271266, 0.02717794, 0.027498705, 0.028203934, 0.030565241, 0.04056638, 0.083880186, 0.15206209, 0.25656614, 0.3699007, 0.41599527, 0.38286245, 0.2963432, 0.19283903, 0.11326966, 0.069379866, 0.047823932, 0.036961176, 0.031532682, 0.02920899, 0.02879285]\n"
          ]
        }
      ]
    }
  ]
}