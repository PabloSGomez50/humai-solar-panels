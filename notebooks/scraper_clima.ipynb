{
 "cells": [
  {
   "attachments": {},
   "cell_type": "markdown",
   "metadata": {},
   "source": [
    "## Objetivo: obtener los datos sin utilizar la libreria demjson"
   ]
  },
  {
   "cell_type": "code",
   "execution_count": 1,
   "metadata": {},
   "outputs": [],
   "source": [
    "import json\n",
    "from requests import get\n",
    "import re"
   ]
  },
  {
   "cell_type": "code",
   "execution_count": 2,
   "metadata": {},
   "outputs": [],
   "source": [
    "URL = 'https://www.timeanddate.com/scripts/cityajax.php?n=australia/sydney&mode=historic&hd=20120804&month=8&year=2012&json=1'\n",
    "\n",
    "response = get(URL)\n",
    "data = response.text"
   ]
  },
  {
   "cell_type": "code",
   "execution_count": 42,
   "metadata": {},
   "outputs": [],
   "source": [
    "keys = re.findall(r'[a-zA-Z]:', data)\n",
    "key_total = []\n",
    "\n",
    "for item in keys:\n",
    "    if item not in key_total:\n",
    "        key_total.append(item)\n",
    "test = data\n",
    "for item in key_total:\n",
    "    test = re.sub(item, f'\"{item[0]}\":', test)\n"
   ]
  },
  {
   "cell_type": "code",
   "execution_count": 44,
   "metadata": {},
   "outputs": [
    {
     "data": {
      "text/plain": [
       "list"
      ]
     },
     "execution_count": 44,
     "metadata": {},
     "output_type": "execute_result"
    }
   ],
   "source": [
    "data_list = json.loads(test)\n",
    "\n",
    "type(data_list)"
   ]
  }
 ],
 "metadata": {
  "kernelspec": {
   "display_name": "venv",
   "language": "python",
   "name": "python3"
  },
  "language_info": {
   "codemirror_mode": {
    "name": "ipython",
    "version": 3
   },
   "file_extension": ".py",
   "mimetype": "text/x-python",
   "name": "python",
   "nbconvert_exporter": "python",
   "pygments_lexer": "ipython3",
   "version": "3.9.7"
  },
  "orig_nbformat": 4,
  "vscode": {
   "interpreter": {
    "hash": "586d0eff8acbceb6ad0502989ac7f61a3811ab5b7e20700dc61815712da7926e"
   }
  }
 },
 "nbformat": 4,
 "nbformat_minor": 2
}
